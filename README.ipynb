{
 "cells": [
  {
   "cell_type": "markdown",
   "id": "d9b33c42",
   "metadata": {},
   "source": [
    "#### Personal Project By: Kayla Brock | Codeup | Jemison Cohort | June 28, 2022"
   ]
  },
  {
   "cell_type": "markdown",
   "id": "d582d704",
   "metadata": {},
   "source": [
    "### \"_I want to drive down health care costs_\" -Chris Gibson"
   ]
  },
  {
   "cell_type": "markdown",
   "id": "2811f41d",
   "metadata": {},
   "source": [
    "#### A project using clustering and linear regression models to predict the annual health expenditure of health insurance customers"
   ]
  },
  {
   "cell_type": "markdown",
   "id": "227f8a1a",
   "metadata": {},
   "source": [
    "<hr style=\"border-top: 1px groove LightCyan ; margin-top: 1px; margin-bottom: 1px\"></hr>"
   ]
  },
  {
   "cell_type": "markdown",
   "id": "764d05cc",
   "metadata": {},
   "source": [
    "# I. Project Overview & EXECUTIVE SUMMARY"
   ]
  },
  {
   "cell_type": "markdown",
   "id": "0f92786d",
   "metadata": {},
   "source": [
    "#### _Project Goal_ "
   ]
  },
  {
   "cell_type": "markdown",
   "id": "4bbf573f",
   "metadata": {},
   "source": [
    "The goal of this project is to create a machine learning model that accurately estimates the annual medical expenditure of health insurance customers. It is believed that, with better predictive capabilities, the insurance company will offer new plans that will both retain current customers as well as attract new customers."
   ]
  },
  {
   "cell_type": "markdown",
   "id": "56588d64",
   "metadata": {},
   "source": [
    "#### _Description_"
   ]
  },
  {
   "cell_type": "markdown",
   "id": "e35756e6",
   "metadata": {},
   "source": [
    "This project aims to create a model that can accurately predict the annual medical expenditure of a customer based on a variety of factors. I chose this project because I am interested and deeply invested in this topic. At one point in my teaching career, because of exorbitant health insurance premiums, I had to leave my classroom job to pursue a teaching job online. It is my hope through this analysis I can make sense of why health insurance premiums are so costly. "
   ]
  },
  {
   "cell_type": "markdown",
   "id": "c8e251b3",
   "metadata": {},
   "source": [
    "#### _Initial Thoughts & Hypotheses_"
   ]
  },
  {
   "cell_type": "markdown",
   "id": "deb07c5d",
   "metadata": {},
   "source": [
    "I believe older customers will have a significantly higher annual medical expenditure than younger customers. I believe females (in childbearing years) will have a significantly higher annual medical expenditure than males. I believe customers with a bmi heavier than a 'healthy range' will have a higher annual medical expenditure than customers within a healthy bmi range. I believe per child annual medical expenditure will be significantly less than per adult annual medical expenditure. I believe smoker annual medical expenditure will be significantly higher than non smoker annual medical expenditure. I believe, all things being equal, the annual medical expenditure should be equal from region to region."
   ]
  },
  {
   "cell_type": "markdown",
   "id": "bde4afd6",
   "metadata": {},
   "source": [
    "#### _Initial Questions_"
   ]
  },
  {
   "cell_type": "markdown",
   "id": "f8eb537a",
   "metadata": {},
   "source": [
    "- Do older customers have higher annual medical expenditures than younger customers?\n",
    "- Do females (in childbearing years) have a significantly higher annual medical expenditure than males? \n",
    "- Do customers with a bmi heavier than a 'healthy range'  have a higher annual medical expenditure than customers within a healthy bmi range? \n",
    "- Is the annual medical expenditure of smokers significantly higher than non smokers?\n",
    "- All things being equal, Is the annual medical expenditure equal from region to region? "
   ]
  },
  {
   "cell_type": "markdown",
   "id": "0c0b5a64",
   "metadata": {},
   "source": [
    "#### _Key Findings_"
   ]
  },
  {
   "cell_type": "markdown",
   "id": "36ae6e90",
   "metadata": {},
   "source": [
    "While the models did not perform as well as I had hoped, there is still valuable insight to be gained from this report. First, the reason the models performed poorly is due to the inclusion of outliers. Although it is common knowledge outliers negatively impact any regression model, for the purpose of business analysis, it was critical to include them.\n",
    "\n",
    "The question moving forward should be, 'how should we handle the outliers?' From my perspective, I see two clear options. Option 1, offer 'cluster rate' health insurance premiums that have a maximum payout of the largest non-outlier maximum value. Keeping in mind this number will not be adequate for some customers, offer a different package (at a higher rate) for those that 'elect' to choose a different type of coverage. The second option is to do further research on the outliers to determine what _legal qualifying factor_ could place them in a separate category. Because preexisting conditions are protected by law, the research team needs to focus on any characteristic that the outlier group has in common that is not covered by law. (i.e. smokers vs non-smokers). \n",
    "\n",
    "This report should not be seen as the final word but rather the first step in making more informed decisions moving forward. I believe strongly, whether the board chooses to offer cluster rate insurance premiums as they are or proceed in further research, there will be many opportunities for data analysis in the future. I am confident small changes can make big differences in health insurance affordability as well as company profitability."
   ]
  },
  {
   "cell_type": "markdown",
   "id": "4e37ea68",
   "metadata": {},
   "source": [
    "#### _Deliverables_"
   ]
  },
  {
   "cell_type": "markdown",
   "id": "be3d516b",
   "metadata": {},
   "source": [
    "* README file - overview of project as well as steps to reproduce \n",
    "* imports.py - contains code for imports\n",
    "* prepare.py - contains code to prepare and split the data \n",
    "* visuals.py - contains code for visuals \n",
    "* Final Report Jupyter Notebook - contains final presentation"
   ]
  },
  {
   "cell_type": "markdown",
   "id": "2580f83c",
   "metadata": {},
   "source": [
    "# II. Project Data"
   ]
  },
  {
   "cell_type": "markdown",
   "id": "8fe5cff3",
   "metadata": {},
   "source": [
    "<hr style=\"border-top: 1px groove LightCyan ; margin-top: 1px; margin-bottom: 1px\"></hr>"
   ]
  },
  {
   "cell_type": "markdown",
   "id": "42f73a05",
   "metadata": {},
   "source": [
    "#### _Data Dictionary_"
   ]
  },
  {
   "cell_type": "markdown",
   "id": "48e3a559",
   "metadata": {},
   "source": [
    "The final DataFrame used to explore the data for this project contains the following variables (columns). The variables, along with their data types, are defined below: "
   ]
  },
  {
   "cell_type": "code",
   "execution_count": 1,
   "id": "70f0ad9b",
   "metadata": {},
   "outputs": [],
   "source": [
    "from collections import OrderedDict\n",
    "import pandas as pd\n",
    "features = OrderedDict([ ('feature', ['age', 'sex', 'bmi', 'children', 'smoker',\n",
    "       'region', 'charges' ]), ('description', ['age of customer', 'customer gender', 'customer bmi', 'number of children',\n",
    "                                               'smoker status: yes or no', 'region customer resides', 'total annual medical charges'\n",
    "                                                ])])                           \n",
    "\n",
    "df = pd.DataFrame.from_dict(features)"
   ]
  },
  {
   "cell_type": "code",
   "execution_count": 2,
   "id": "cf834acc",
   "metadata": {},
   "outputs": [
    {
     "data": {
      "text/html": [
       "<div>\n",
       "<style scoped>\n",
       "    .dataframe tbody tr th:only-of-type {\n",
       "        vertical-align: middle;\n",
       "    }\n",
       "\n",
       "    .dataframe tbody tr th {\n",
       "        vertical-align: top;\n",
       "    }\n",
       "\n",
       "    .dataframe thead th {\n",
       "        text-align: right;\n",
       "    }\n",
       "</style>\n",
       "<table border=\"1\" class=\"dataframe\">\n",
       "  <thead>\n",
       "    <tr style=\"text-align: right;\">\n",
       "      <th></th>\n",
       "      <th>feature</th>\n",
       "      <th>description</th>\n",
       "    </tr>\n",
       "  </thead>\n",
       "  <tbody>\n",
       "    <tr>\n",
       "      <th>0</th>\n",
       "      <td>age</td>\n",
       "      <td>age of customer</td>\n",
       "    </tr>\n",
       "    <tr>\n",
       "      <th>1</th>\n",
       "      <td>sex</td>\n",
       "      <td>customer gender</td>\n",
       "    </tr>\n",
       "    <tr>\n",
       "      <th>2</th>\n",
       "      <td>bmi</td>\n",
       "      <td>customer bmi</td>\n",
       "    </tr>\n",
       "    <tr>\n",
       "      <th>3</th>\n",
       "      <td>children</td>\n",
       "      <td>number of children</td>\n",
       "    </tr>\n",
       "    <tr>\n",
       "      <th>4</th>\n",
       "      <td>smoker</td>\n",
       "      <td>smoker status: yes or no</td>\n",
       "    </tr>\n",
       "    <tr>\n",
       "      <th>5</th>\n",
       "      <td>region</td>\n",
       "      <td>region customer resides</td>\n",
       "    </tr>\n",
       "    <tr>\n",
       "      <th>6</th>\n",
       "      <td>charges</td>\n",
       "      <td>total annual medical charges</td>\n",
       "    </tr>\n",
       "  </tbody>\n",
       "</table>\n",
       "</div>"
      ],
      "text/plain": [
       "    feature                   description\n",
       "0       age               age of customer\n",
       "1       sex               customer gender\n",
       "2       bmi                  customer bmi\n",
       "3  children            number of children\n",
       "4    smoker      smoker status: yes or no\n",
       "5    region       region customer resides\n",
       "6   charges  total annual medical charges"
      ]
     },
     "execution_count": 2,
     "metadata": {},
     "output_type": "execute_result"
    }
   ],
   "source": [
    "df"
   ]
  },
  {
   "cell_type": "markdown",
   "id": "f28f8d04",
   "metadata": {},
   "source": [
    "# III. Project PLAN "
   ]
  },
  {
   "cell_type": "markdown",
   "id": "b45fc820",
   "metadata": {},
   "source": [
    "<hr style=\"border-top: 1px groove LightCyan ; margin-top: 1px; margin-bottom: 1px\"></hr>"
   ]
  },
  {
   "cell_type": "markdown",
   "id": "fcda5156",
   "metadata": {},
   "source": [
    "#### The following outlines the process taken through the data science pipeline to complete this project"
   ]
  },
  {
   "cell_type": "markdown",
   "id": "076280e0",
   "metadata": {},
   "source": [
    "#### _Plan_"
   ]
  },
  {
   "cell_type": "markdown",
   "id": "e79fef46",
   "metadata": {},
   "source": [
    "In the planning stage I: read the project expectations, create a project outline, write a project goal to include how I would measure success or failure, review the overview of the dataset, document all initial thoughts, questions, and hypotheses, create a plan for completing the project, create a data dictionary to define features, and create a local folder and github repository."
   ]
  },
  {
   "cell_type": "markdown",
   "id": "6d7875ab",
   "metadata": {},
   "source": [
    "#### _Acquire_"
   ]
  },
  {
   "cell_type": "markdown",
   "id": "9ff8bf37",
   "metadata": {},
   "source": [
    "In the acquire stage I: create a .gitignore, obtain health insurance data from Kaggle, and save the data as a csv in my local folder. "
   ]
  },
  {
   "cell_type": "markdown",
   "id": "558ad97f",
   "metadata": {},
   "source": [
    "#### _Prepare_"
   ]
  },
  {
   "cell_type": "markdown",
   "id": "3e102de4",
   "metadata": {},
   "source": [
    "In the Prepare stage I: review the dataset to see if there are any missing values(no null values), split the data into train, validate, test, and create a prepare.py file with functions to prepare data.  "
   ]
  },
  {
   "cell_type": "markdown",
   "id": "8b339436",
   "metadata": {},
   "source": [
    "#### _Explore_"
   ]
  },
  {
   "cell_type": "markdown",
   "id": "235255c2",
   "metadata": {},
   "source": [
    "In the Explore stage I: identified relationships between the target variable and features through univariate and bivariate exploration, performed six statistical tests (4 T-test and 1 ANOVA test) to determine the significance of the relationship between the target variable and the features. All tests are supported by visuals and takeaways. "
   ]
  },
  {
   "cell_type": "markdown",
   "id": "7f18cad0",
   "metadata": {},
   "source": [
    "#### _Model AND Evaluate_"
   ]
  },
  {
   "cell_type": "markdown",
   "id": "afcbf1ba",
   "metadata": {},
   "source": [
    "In the model and evaluate stage I: established baseline accuracy, trained and fit multiple models with varying algorithms and hyperparameters, compared evaluation metrics across models, evaluated best performing models using validate set, test final model on out-of-sample testing dataset, and summarized performance"
   ]
  },
  {
   "cell_type": "markdown",
   "id": "38213087",
   "metadata": {},
   "source": [
    "#### _Deliver_"
   ]
  },
  {
   "cell_type": "markdown",
   "id": "356b72a0",
   "metadata": {},
   "source": [
    "In the final stage I: prepared final notebook in Jupyter Notebook. I: wrote out my project description, introduction to include goals, created an executive summary which included all my key findings and recommendations, created headers and dividers to organize the flow of the notebook, asked and answered all questions, added summaries and supplementary markdown to guide the reader through the notebook."
   ]
  },
  {
   "cell_type": "markdown",
   "id": "3b5e41c6",
   "metadata": {},
   "source": [
    "# IV. Supplementary Files "
   ]
  },
  {
   "cell_type": "markdown",
   "id": "15842a7b",
   "metadata": {},
   "source": [
    "<hr style=\"border-top: 1px groove LightCyan ; margin-top: 1px; margin-bottom: 1px\"></hr>"
   ]
  },
  {
   "cell_type": "markdown",
   "id": "16c18b80",
   "metadata": {},
   "source": [
    "- prepare.py - provides code to prepare, split, and encode the data \n",
    "- visuals.py - provides code for all visuals found in the notebook \n",
    "- imports.py - provides imports "
   ]
  },
  {
   "cell_type": "markdown",
   "id": "7f8fb948",
   "metadata": {},
   "source": [
    "# V. Steps to Reproduce"
   ]
  },
  {
   "cell_type": "markdown",
   "id": "ba13d9ea",
   "metadata": {},
   "source": [
    "<hr style=\"border-top: 1px groove LightCyan ; margin-top: 1px; margin-bottom: 1px\"></hr>"
   ]
  },
  {
   "cell_type": "markdown",
   "id": "5eccf450",
   "metadata": {},
   "source": [
    "- Create a Kaggle profile, find and download 'Health Insurance' dataset\n",
    "- Clone this repo (including prepare.py, imports.py, and visuals.py)\n",
    "- Run Final Report Jupyter notebook to view the final product"
   ]
  },
  {
   "cell_type": "code",
   "execution_count": null,
   "id": "98dd7cea",
   "metadata": {},
   "outputs": [],
   "source": []
  }
 ],
 "metadata": {
  "kernelspec": {
   "display_name": "Python 3 (ipykernel)",
   "language": "python",
   "name": "python3"
  },
  "language_info": {
   "codemirror_mode": {
    "name": "ipython",
    "version": 3
   },
   "file_extension": ".py",
   "mimetype": "text/x-python",
   "name": "python",
   "nbconvert_exporter": "python",
   "pygments_lexer": "ipython3",
   "version": "3.9.7"
  }
 },
 "nbformat": 4,
 "nbformat_minor": 5
}
